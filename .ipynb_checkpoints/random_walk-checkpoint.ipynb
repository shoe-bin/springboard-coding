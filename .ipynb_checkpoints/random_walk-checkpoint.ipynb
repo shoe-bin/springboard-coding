{
 "cells": [
  {
   "cell_type": "code",
   "execution_count": 1,
   "id": "a4e7b68a",
   "metadata": {},
   "outputs": [],
   "source": [
    "import random"
   ]
  },
  {
   "cell_type": "code",
   "execution_count": 2,
   "id": "fa6e9276",
   "metadata": {},
   "outputs": [],
   "source": [
    "def random_walk(n):\n",
    "    x = 0\n",
    "    y = 0\n",
    "    for i in range(n):\n",
    "        step = random.choice(['N', 'S', 'E', 'W'])\n",
    "        if step == 'N':\n",
    "            y = y +1\n",
    "        elif step == 'S':\n",
    "            y = y-1\n",
    "        elif step == 'E':\n",
    "            x += 1\n",
    "        else:\n",
    "            x -=1\n",
    "    return(x,y)    "
   ]
  },
  {
   "cell_type": "code",
   "execution_count": 4,
   "id": "ccc4b238",
   "metadata": {},
   "outputs": [
    {
     "name": "stdout",
     "output_type": "stream",
     "text": [
      "(-1, 1) Distance from home =  2\n",
      "(-2, -2) Distance from home =  4\n",
      "(2, 0) Distance from home =  2\n",
      "(1, -3) Distance from home =  4\n",
      "(-3, -3) Distance from home =  6\n",
      "(0, 2) Distance from home =  2\n",
      "(2, 0) Distance from home =  2\n",
      "(2, 0) Distance from home =  2\n",
      "(0, 2) Distance from home =  2\n",
      "(1, 1) Distance from home =  2\n",
      "(-1, -5) Distance from home =  6\n",
      "(-2, 4) Distance from home =  6\n",
      "(0, 0) Distance from home =  0\n",
      "(1, -1) Distance from home =  2\n",
      "(0, 0) Distance from home =  0\n",
      "(5, 1) Distance from home =  6\n",
      "(-1, -3) Distance from home =  4\n",
      "(0, 0) Distance from home =  0\n",
      "(-1, 1) Distance from home =  2\n",
      "(3, -1) Distance from home =  4\n",
      "(1, 1) Distance from home =  2\n",
      "(-2, 2) Distance from home =  4\n",
      "(1, 3) Distance from home =  4\n",
      "(3, 1) Distance from home =  4\n",
      "(1, -1) Distance from home =  2\n"
     ]
    }
   ],
   "source": [
    "for i in range(25):\n",
    "    walk = random_walk(10)\n",
    "    print(walk, \"Distance from home = \", abs(walk[0]) + abs(walk[1]))"
   ]
  },
  {
   "cell_type": "markdown",
   "id": "4b6bcee0",
   "metadata": {},
   "source": [
    "\n",
    "\n",
    "\n",
    "\n",
    "2nd iteration of how to right the funtion in a more conscise way"
   ]
  },
  {
   "cell_type": "code",
   "execution_count": 5,
   "id": "70165705",
   "metadata": {},
   "outputs": [],
   "source": [
    "def random_walk_2(n):\n",
    "    x, y = 0, 0\n",
    "    for i in range(n):\n",
    "        (dx, dy) = random.choice([(0,1), (0, -1), (1,0), (-1, 0)])\n",
    "        x += dx\n",
    "        y += dy\n",
    "    return (x, y)\n"
   ]
  },
  {
   "cell_type": "code",
   "execution_count": 7,
   "id": "d5ce48d0",
   "metadata": {},
   "outputs": [
    {
     "name": "stdout",
     "output_type": "stream",
     "text": [
      "(1, -1) Distance from home =  2\n",
      "(2, 2) Distance from home =  4\n",
      "(-3, -3) Distance from home =  6\n",
      "(0, -6) Distance from home =  6\n",
      "(-1, -3) Distance from home =  4\n",
      "(0, 0) Distance from home =  0\n",
      "(0, -2) Distance from home =  2\n",
      "(-2, 0) Distance from home =  2\n",
      "(1, 1) Distance from home =  2\n",
      "(-1, 1) Distance from home =  2\n",
      "(0, 0) Distance from home =  0\n",
      "(0, 0) Distance from home =  0\n",
      "(-5, 1) Distance from home =  6\n",
      "(3, 1) Distance from home =  4\n",
      "(0, -6) Distance from home =  6\n",
      "(2, 2) Distance from home =  4\n",
      "(-2, -2) Distance from home =  4\n",
      "(-1, -1) Distance from home =  2\n",
      "(-2, 0) Distance from home =  2\n",
      "(1, 3) Distance from home =  4\n",
      "(-5, -3) Distance from home =  8\n",
      "(1, 1) Distance from home =  2\n",
      "(-2, 2) Distance from home =  4\n",
      "(0, -2) Distance from home =  2\n",
      "(-6, 2) Distance from home =  8\n"
     ]
    }
   ],
   "source": [
    "for i in range(25):\n",
    "    walk = random_walk_2(10)\n",
    "    print(walk, \"Distance from home = \", abs(walk[0]) + abs(walk[1]))"
   ]
  },
  {
   "cell_type": "code",
   "execution_count": 18,
   "id": "a6b28206",
   "metadata": {},
   "outputs": [
    {
     "name": "stdout",
     "output_type": "stream",
     "text": [
      "Walk size =  1 / % change of no transport is  100.0\n",
      "Walk size =  2 / % change of no transport is  100.0\n",
      "Walk size =  3 / % change of no transport is  100.0\n",
      "Walk size =  4 / % change of no transport is  100.0\n",
      "Walk size =  5 / % change of no transport is  88.09\n",
      "Walk size =  6 / % change of no transport is  93.905\n",
      "Walk size =  7 / % change of no transport is  75.82\n",
      "Walk size =  8 / % change of no transport is  86.48\n",
      "Walk size =  9 / % change of no transport is  67.375\n",
      "Walk size =  10 / % change of no transport is  78.75999999999999\n",
      "Walk size =  11 / % change of no transport is  59.824999999999996\n",
      "Walk size =  12 / % change of no transport is  73.42\n",
      "Walk size =  13 / % change of no transport is  53.510000000000005\n",
      "Walk size =  14 / % change of no transport is  67.75999999999999\n",
      "Walk size =  15 / % change of no transport is  48.405\n",
      "Walk size =  16 / % change of no transport is  62.580000000000005\n",
      "Walk size =  17 / % change of no transport is  45.225\n",
      "Walk size =  18 / % change of no transport is  57.82000000000001\n",
      "Walk size =  19 / % change of no transport is  41.25\n",
      "Walk size =  20 / % change of no transport is  53.769999999999996\n",
      "Walk size =  21 / % change of no transport is  38.085\n",
      "Walk size =  22 / % change of no transport is  50.875\n",
      "Walk size =  23 / % change of no transport is  35.56\n",
      "Walk size =  24 / % change of no transport is  48.33\n",
      "Walk size =  25 / % change of no transport is  33.19\n",
      "Walk size =  26 / % change of no transport is  45.495000000000005\n",
      "Walk size =  27 / % change of no transport is  31.630000000000003\n",
      "Walk size =  28 / % change of no transport is  42.975\n",
      "Walk size =  29 / % change of no transport is  29.099999999999998\n",
      "Walk size =  30 / % change of no transport is  40.655\n"
     ]
    }
   ],
   "source": [
    "num_of_walks = 20000\n",
    "\n",
    "\n",
    "for walk_length in range(1,31):\n",
    "    no_transport = 0\n",
    "    for i in range(num_of_walks):\n",
    "        (x, y) = random_walk_2(walk_length)\n",
    "        distance = abs(x) + abs(y)\n",
    "        if distance <=4:\n",
    "            no_transport += 1\n",
    "    print(\"Walk size = \", walk_length, \"/ % change of no transport is \",  (no_transport / num_of_walks)*100)\n",
    "    "
   ]
  },
  {
   "cell_type": "code",
   "execution_count": null,
   "id": "2b07a79e",
   "metadata": {},
   "outputs": [],
   "source": []
  }
 ],
 "metadata": {
  "kernelspec": {
   "display_name": "Python 3 (ipykernel)",
   "language": "python",
   "name": "python3"
  },
  "language_info": {
   "codemirror_mode": {
    "name": "ipython",
    "version": 3
   },
   "file_extension": ".py",
   "mimetype": "text/x-python",
   "name": "python",
   "nbconvert_exporter": "python",
   "pygments_lexer": "ipython3",
   "version": "3.11.5"
  }
 },
 "nbformat": 4,
 "nbformat_minor": 5
}

{
 "cells": [
  {
   "cell_type": "code",
   "execution_count": 1,
   "id": "1b28d5dd",
   "metadata": {},
   "outputs": [],
   "source": [
    "import random"
   ]
  },
  {
   "cell_type": "code",
   "execution_count": 2,
   "id": "9de1d3cf",
   "metadata": {},
   "outputs": [],
   "source": [
    "def random_walk(n):\n",
    "    x = 0\n",
    "    y = 0\n",
    "    for i in range(n):\n",
    "        step = random.choice(['N', 'S', 'E', 'W'])\n",
    "        if step == 'N':\n",
    "            y = y +1\n",
    "        elif step == 'S':\n",
    "            y = y-1\n",
    "        elif step == 'E':\n",
    "            x += 1\n",
    "        else:\n",
    "            x -=1\n",
    "    return(x,y)    "
   ]
  },
  {
   "cell_type": "code",
   "execution_count": 4,
   "id": "fca1d92e",
   "metadata": {},
   "outputs": [
    {
     "name": "stdout",
     "output_type": "stream",
     "text": [
      "(-1, 1) Distance from home =  2\n",
      "(-2, -2) Distance from home =  4\n",
      "(2, 0) Distance from home =  2\n",
      "(1, -3) Distance from home =  4\n",
      "(-3, -3) Distance from home =  6\n",
      "(0, 2) Distance from home =  2\n",
      "(2, 0) Distance from home =  2\n",
      "(2, 0) Distance from home =  2\n",
      "(0, 2) Distance from home =  2\n",
      "(1, 1) Distance from home =  2\n",
      "(-1, -5) Distance from home =  6\n",
      "(-2, 4) Distance from home =  6\n",
      "(0, 0) Distance from home =  0\n",
      "(1, -1) Distance from home =  2\n",
      "(0, 0) Distance from home =  0\n",
      "(5, 1) Distance from home =  6\n",
      "(-1, -3) Distance from home =  4\n",
      "(0, 0) Distance from home =  0\n",
      "(-1, 1) Distance from home =  2\n",
      "(3, -1) Distance from home =  4\n",
      "(1, 1) Distance from home =  2\n",
      "(-2, 2) Distance from home =  4\n",
      "(1, 3) Distance from home =  4\n",
      "(3, 1) Distance from home =  4\n",
      "(1, -1) Distance from home =  2\n"
     ]
    }
   ],
   "source": [
    "for i in range(25):\n",
    "    walk = random_walk(10)\n",
    "    print(walk, \"Distance from home = \", abs(walk[0]) + abs(walk[1]))"
   ]
  },
  {
   "cell_type": "markdown",
   "id": "e49c9712",
   "metadata": {},
   "source": [
    "\n",
    "\n",
    "\n",
    "\n",
    "2nd iteration of how to right the funtion in a more conscise way"
   ]
  },
  {
   "cell_type": "code",
   "execution_count": 5,
   "id": "0de2a060",
   "metadata": {},
   "outputs": [],
   "source": [
    "def random_walk_2(n):\n",
    "    x, y = 0, 0\n",
    "    for i in range(n):\n",
    "        (dx, dy) = random.choice([(0,1), (0, -1), (1,0), (-1, 0)])\n",
    "        x += dx\n",
    "        y += dy\n",
    "    return (x, y)\n"
   ]
  },
  {
   "cell_type": "code",
   "execution_count": 7,
   "id": "54d4abeb",
   "metadata": {},
   "outputs": [
    {
     "name": "stdout",
     "output_type": "stream",
     "text": [
      "(1, -1) Distance from home =  2\n",
      "(2, 2) Distance from home =  4\n",
      "(-3, -3) Distance from home =  6\n",
      "(0, -6) Distance from home =  6\n",
      "(-1, -3) Distance from home =  4\n",
      "(0, 0) Distance from home =  0\n",
      "(0, -2) Distance from home =  2\n",
      "(-2, 0) Distance from home =  2\n",
      "(1, 1) Distance from home =  2\n",
      "(-1, 1) Distance from home =  2\n",
      "(0, 0) Distance from home =  0\n",
      "(0, 0) Distance from home =  0\n",
      "(-5, 1) Distance from home =  6\n",
      "(3, 1) Distance from home =  4\n",
      "(0, -6) Distance from home =  6\n",
      "(2, 2) Distance from home =  4\n",
      "(-2, -2) Distance from home =  4\n",
      "(-1, -1) Distance from home =  2\n",
      "(-2, 0) Distance from home =  2\n",
      "(1, 3) Distance from home =  4\n",
      "(-5, -3) Distance from home =  8\n",
      "(1, 1) Distance from home =  2\n",
      "(-2, 2) Distance from home =  4\n",
      "(0, -2) Distance from home =  2\n",
      "(-6, 2) Distance from home =  8\n"
     ]
    }
   ],
   "source": [
    "for i in range(25):\n",
    "    walk = random_walk_2(10)\n",
    "    print(walk, \"Distance from home = \", abs(walk[0]) + abs(walk[1]))"
   ]
  },
  {
   "cell_type": "code",
   "execution_count": null,
   "id": "af1e0cd0",
   "metadata": {},
   "outputs": [],
   "source": [
    "for i in range(25):\n",
    "    print(i)"
   ]
  }
 ],
 "metadata": {
  "kernelspec": {
   "display_name": "Python 3 (ipykernel)",
   "language": "python",
   "name": "python3"
  },
  "language_info": {
   "codemirror_mode": {
    "name": "ipython",
    "version": 3
   },
   "file_extension": ".py",
   "mimetype": "text/x-python",
   "name": "python",
   "nbconvert_exporter": "python",
   "pygments_lexer": "ipython3",
   "version": "3.11.5"
  }
 },
 "nbformat": 4,
 "nbformat_minor": 5
}

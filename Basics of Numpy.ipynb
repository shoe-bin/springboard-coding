{
 "cells": [
  {
   "cell_type": "code",
   "execution_count": 1,
   "id": "768bbdfd",
   "metadata": {},
   "outputs": [],
   "source": [
    "import numpy as np"
   ]
  },
  {
   "cell_type": "markdown",
   "id": "af8c1681",
   "metadata": {},
   "source": [
    "# 1. Create"
   ]
  },
  {
   "cell_type": "code",
   "execution_count": 2,
   "id": "2c6fc734",
   "metadata": {},
   "outputs": [],
   "source": [
    "data = np.random.rand(2,3,4)\n",
    "zeroes = np.zeros((2,2,2))\n",
    "full = np.full((2,2,2), 7)\n",
    "ones = np.ones((2,2,2))"
   ]
  },
  {
   "cell_type": "code",
   "execution_count": 3,
   "id": "daa31d2c",
   "metadata": {},
   "outputs": [
    {
     "data": {
      "text/plain": [
       "array([[[0.0383259 , 0.30214262, 0.3163832 , 0.9248263 ],\n",
       "        [0.84938017, 0.61577627, 0.15042376, 0.5574974 ],\n",
       "        [0.06104333, 0.84693416, 0.04198882, 0.90679805]],\n",
       "\n",
       "       [[0.14398377, 0.21139325, 0.32701177, 0.77874617],\n",
       "        [0.58091625, 0.79644872, 0.26816703, 0.59385836],\n",
       "        [0.32726255, 0.02846491, 0.06292088, 0.35181163]]])"
      ]
     },
     "execution_count": 3,
     "metadata": {},
     "output_type": "execute_result"
    }
   ],
   "source": [
    "data"
   ]
  },
  {
   "cell_type": "code",
   "execution_count": 4,
   "id": "7af9d26a",
   "metadata": {},
   "outputs": [
    {
     "data": {
      "text/plain": [
       "array([[[0., 0.],\n",
       "        [0., 0.]],\n",
       "\n",
       "       [[0., 0.],\n",
       "        [0., 0.]]])"
      ]
     },
     "execution_count": 4,
     "metadata": {},
     "output_type": "execute_result"
    }
   ],
   "source": [
    "zeroes"
   ]
  },
  {
   "cell_type": "code",
   "execution_count": 5,
   "id": "7ff09ffe",
   "metadata": {},
   "outputs": [
    {
     "data": {
      "text/plain": [
       "array([[[7, 7],\n",
       "        [7, 7]],\n",
       "\n",
       "       [[7, 7],\n",
       "        [7, 7]]])"
      ]
     },
     "execution_count": 5,
     "metadata": {},
     "output_type": "execute_result"
    }
   ],
   "source": [
    "full"
   ]
  },
  {
   "cell_type": "code",
   "execution_count": 6,
   "id": "7f0d1281",
   "metadata": {},
   "outputs": [
    {
     "data": {
      "text/plain": [
       "array([[[1., 1.],\n",
       "        [1., 1.]],\n",
       "\n",
       "       [[1., 1.],\n",
       "        [1., 1.]]])"
      ]
     },
     "execution_count": 6,
     "metadata": {},
     "output_type": "execute_result"
    }
   ],
   "source": [
    "ones"
   ]
  },
  {
   "cell_type": "code",
   "execution_count": 7,
   "id": "42eed38f",
   "metadata": {},
   "outputs": [],
   "source": [
    "arr = np.array([[1,2,3],[1,2,3]])"
   ]
  },
  {
   "cell_type": "code",
   "execution_count": 8,
   "id": "54632942",
   "metadata": {},
   "outputs": [
    {
     "data": {
      "text/plain": [
       "array([[1, 2, 3],\n",
       "       [1, 2, 3]])"
      ]
     },
     "execution_count": 8,
     "metadata": {},
     "output_type": "execute_result"
    }
   ],
   "source": [
    "arr"
   ]
  },
  {
   "cell_type": "markdown",
   "id": "bcde2432",
   "metadata": {},
   "source": [
    "# 2. Read"
   ]
  },
  {
   "cell_type": "code",
   "execution_count": 9,
   "id": "0661388d",
   "metadata": {},
   "outputs": [],
   "source": [
    "shape = data.shape\n",
    "size = data.size\n",
    "types = data.dtype"
   ]
  },
  {
   "cell_type": "code",
   "execution_count": 10,
   "id": "d351debc",
   "metadata": {},
   "outputs": [
    {
     "data": {
      "text/plain": [
       "(2, 3, 4)"
      ]
     },
     "execution_count": 10,
     "metadata": {},
     "output_type": "execute_result"
    }
   ],
   "source": [
    "shape"
   ]
  },
  {
   "cell_type": "code",
   "execution_count": 11,
   "id": "ea882b63",
   "metadata": {},
   "outputs": [
    {
     "data": {
      "text/plain": [
       "24"
      ]
     },
     "execution_count": 11,
     "metadata": {},
     "output_type": "execute_result"
    }
   ],
   "source": [
    "size"
   ]
  },
  {
   "cell_type": "code",
   "execution_count": 12,
   "id": "124dcbb5",
   "metadata": {},
   "outputs": [
    {
     "data": {
      "text/plain": [
       "dtype('float64')"
      ]
     },
     "execution_count": 12,
     "metadata": {},
     "output_type": "execute_result"
    }
   ],
   "source": [
    "types"
   ]
  },
  {
   "cell_type": "code",
   "execution_count": 13,
   "id": "2a2a1750",
   "metadata": {},
   "outputs": [],
   "source": [
    "arr = data[0]\n",
    "slicer = data[0:2]\n",
    "reverse = data[-1]\n",
    "singleval = data[0][0][0]"
   ]
  },
  {
   "cell_type": "code",
   "execution_count": 14,
   "id": "b75c6e1d",
   "metadata": {},
   "outputs": [
    {
     "data": {
      "text/plain": [
       "array([[0.0383259 , 0.30214262, 0.3163832 , 0.9248263 ],\n",
       "       [0.84938017, 0.61577627, 0.15042376, 0.5574974 ],\n",
       "       [0.06104333, 0.84693416, 0.04198882, 0.90679805]])"
      ]
     },
     "execution_count": 14,
     "metadata": {},
     "output_type": "execute_result"
    }
   ],
   "source": [
    "arr"
   ]
  },
  {
   "cell_type": "code",
   "execution_count": 15,
   "id": "d9e63150",
   "metadata": {},
   "outputs": [
    {
     "data": {
      "text/plain": [
       "array([[[0.0383259 , 0.30214262, 0.3163832 , 0.9248263 ],\n",
       "        [0.84938017, 0.61577627, 0.15042376, 0.5574974 ],\n",
       "        [0.06104333, 0.84693416, 0.04198882, 0.90679805]],\n",
       "\n",
       "       [[0.14398377, 0.21139325, 0.32701177, 0.77874617],\n",
       "        [0.58091625, 0.79644872, 0.26816703, 0.59385836],\n",
       "        [0.32726255, 0.02846491, 0.06292088, 0.35181163]]])"
      ]
     },
     "execution_count": 15,
     "metadata": {},
     "output_type": "execute_result"
    }
   ],
   "source": [
    "slicer"
   ]
  },
  {
   "cell_type": "code",
   "execution_count": 16,
   "id": "72fff135",
   "metadata": {},
   "outputs": [
    {
     "data": {
      "text/plain": [
       "array([[0.14398377, 0.21139325, 0.32701177, 0.77874617],\n",
       "       [0.58091625, 0.79644872, 0.26816703, 0.59385836],\n",
       "       [0.32726255, 0.02846491, 0.06292088, 0.35181163]])"
      ]
     },
     "execution_count": 16,
     "metadata": {},
     "output_type": "execute_result"
    }
   ],
   "source": [
    "reverse"
   ]
  },
  {
   "cell_type": "code",
   "execution_count": 17,
   "id": "88f130c4",
   "metadata": {},
   "outputs": [
    {
     "data": {
      "text/plain": [
       "0.03832590060884056"
      ]
     },
     "execution_count": 17,
     "metadata": {},
     "output_type": "execute_result"
    }
   ],
   "source": [
    "singleval"
   ]
  },
  {
   "cell_type": "markdown",
   "id": "d42e90e9",
   "metadata": {},
   "source": [
    "# Update"
   ]
  },
  {
   "cell_type": "code",
   "execution_count": 18,
   "id": "d7a68287",
   "metadata": {},
   "outputs": [],
   "source": [
    "list1 = np.random.rand(10)\n",
    "list2 = np.random.rand(10)"
   ]
  },
  {
   "cell_type": "code",
   "execution_count": 22,
   "id": "339456dc",
   "metadata": {},
   "outputs": [],
   "source": [
    "add = np.add(list1, list2)\n",
    "sub = np.subtract(list1, list2)\n",
    "div = np.divide(list1, list2)\n",
    "mult = np.multiply(list1, list2)\n",
    "dot = np.dot(list1, list2)"
   ]
  },
  {
   "cell_type": "code",
   "execution_count": 23,
   "id": "78e57c0a",
   "metadata": {},
   "outputs": [
    {
     "data": {
      "text/plain": [
       "array([0.0114981 , 0.45650798, 0.37072875, 0.58314135, 0.3006783 ,\n",
       "       0.77725503, 0.97598042, 0.32691154, 0.67820095, 0.58819268])"
      ]
     },
     "execution_count": 23,
     "metadata": {},
     "output_type": "execute_result"
    }
   ],
   "source": [
    "list1"
   ]
  },
  {
   "cell_type": "code",
   "execution_count": 24,
   "id": "bdde0cac",
   "metadata": {},
   "outputs": [
    {
     "data": {
      "text/plain": [
       "array([0.09876449, 0.93602053, 0.41135471, 0.66940653, 0.92370834,\n",
       "       0.81353092, 0.04102433, 0.98392548, 0.71738761, 0.4347301 ])"
      ]
     },
     "execution_count": 24,
     "metadata": {},
     "output_type": "execute_result"
    }
   ],
   "source": [
    "list2"
   ]
  },
  {
   "cell_type": "code",
   "execution_count": 20,
   "id": "39cddfc5",
   "metadata": {},
   "outputs": [
    {
     "data": {
      "text/plain": [
       "array([0.11026259, 1.39252851, 0.78208346, 1.25254787, 1.22438664,\n",
       "       1.59078595, 1.01700475, 1.31083701, 1.39558856, 1.02292278])"
      ]
     },
     "execution_count": 20,
     "metadata": {},
     "output_type": "execute_result"
    }
   ],
   "source": [
    "add"
   ]
  },
  {
   "cell_type": "code",
   "execution_count": 21,
   "id": "6e413c3e",
   "metadata": {},
   "outputs": [
    {
     "data": {
      "text/plain": [
       "array([-0.08726639, -0.47951255, -0.04062595, -0.08626518, -0.62303004,\n",
       "       -0.03627589,  0.9349561 , -0.65701394, -0.03918666,  0.15346258])"
      ]
     },
     "execution_count": 21,
     "metadata": {},
     "output_type": "execute_result"
    }
   ],
   "source": [
    "sub"
   ]
  },
  {
   "cell_type": "code",
   "execution_count": 25,
   "id": "1fc3b66f",
   "metadata": {},
   "outputs": [
    {
     "data": {
      "text/plain": [
       "array([ 0.11641939,  0.4877115 ,  0.90123863,  0.87113185,  0.32551217,\n",
       "        0.95540933, 23.7902851 ,  0.33225233,  0.94537589,  1.35300656])"
      ]
     },
     "execution_count": 25,
     "metadata": {},
     "output_type": "execute_result"
    }
   ],
   "source": [
    "div"
   ]
  },
  {
   "cell_type": "code",
   "execution_count": 26,
   "id": "bc348907",
   "metadata": {},
   "outputs": [
    {
     "data": {
      "text/plain": [
       "array([0.0011356 , 0.42730084, 0.15250102, 0.39035862, 0.27773905,\n",
       "       0.632321  , 0.04003894, 0.32165659, 0.48653296, 0.25570506])"
      ]
     },
     "execution_count": 26,
     "metadata": {},
     "output_type": "execute_result"
    }
   ],
   "source": [
    "mult"
   ]
  },
  {
   "cell_type": "code",
   "execution_count": null,
   "id": "d89b00d5",
   "metadata": {},
   "outputs": [],
   "source": [
    "#multiplys every number together and adds them together"
   ]
  },
  {
   "cell_type": "code",
   "execution_count": 27,
   "id": "abd2cb1f",
   "metadata": {},
   "outputs": [
    {
     "data": {
      "text/plain": [
       "2.985289687112478"
      ]
     },
     "execution_count": 27,
     "metadata": {},
     "output_type": "execute_result"
    }
   ],
   "source": [
    "dot"
   ]
  },
  {
   "cell_type": "code",
   "execution_count": 28,
   "id": "8d0bb126",
   "metadata": {},
   "outputs": [],
   "source": [
    "#for statistical function, remeber SAPLEMM"
   ]
  },
  {
   "cell_type": "code",
   "execution_count": 31,
   "id": "7d61b47e",
   "metadata": {},
   "outputs": [],
   "source": [
    "sqrt = np.sqrt(25)\n",
    "ab = np.abs(-2)\n",
    "power = np.power(2,7)\n",
    "log = np.log(25)\n",
    "exp = ([2,3])\n",
    "mins = np.min(list1)\n",
    "maxs = np.max(list1)"
   ]
  },
  {
   "cell_type": "code",
   "execution_count": 33,
   "id": "458a1cfd",
   "metadata": {},
   "outputs": [],
   "source": [
    "#exp is the logrithmic number of e"
   ]
  },
  {
   "cell_type": "code",
   "execution_count": 34,
   "id": "2510b45c",
   "metadata": {},
   "outputs": [],
   "source": [
    "data[0][0][0] = 700"
   ]
  },
  {
   "cell_type": "code",
   "execution_count": 35,
   "id": "eee4d02e",
   "metadata": {},
   "outputs": [
    {
     "data": {
      "text/plain": [
       "array([[[7.00000000e+02, 3.02142621e-01, 3.16383196e-01, 9.24826296e-01],\n",
       "        [8.49380173e-01, 6.15776267e-01, 1.50423761e-01, 5.57497403e-01],\n",
       "        [6.10433259e-02, 8.46934156e-01, 4.19888195e-02, 9.06798053e-01]],\n",
       "\n",
       "       [[1.43983770e-01, 2.11393245e-01, 3.27011774e-01, 7.78746171e-01],\n",
       "        [5.80916251e-01, 7.96448724e-01, 2.68167025e-01, 5.93858360e-01],\n",
       "        [3.27262548e-01, 2.84649066e-02, 6.29208758e-02, 3.51811631e-01]]])"
      ]
     },
     "execution_count": 35,
     "metadata": {},
     "output_type": "execute_result"
    }
   ],
   "source": [
    "data"
   ]
  },
  {
   "cell_type": "code",
   "execution_count": 36,
   "id": "88a4ef55",
   "metadata": {},
   "outputs": [
    {
     "data": {
      "text/plain": [
       "array([[[3.02142621e-01, 3.16383196e-01, 9.24826296e-01, 7.00000000e+02],\n",
       "        [1.50423761e-01, 5.57497403e-01, 6.15776267e-01, 8.49380173e-01],\n",
       "        [4.19888195e-02, 6.10433259e-02, 8.46934156e-01, 9.06798053e-01]],\n",
       "\n",
       "       [[1.43983770e-01, 2.11393245e-01, 3.27011774e-01, 7.78746171e-01],\n",
       "        [2.68167025e-01, 5.80916251e-01, 5.93858360e-01, 7.96448724e-01],\n",
       "        [2.84649066e-02, 6.29208758e-02, 3.27262548e-01, 3.51811631e-01]]])"
      ]
     },
     "execution_count": 36,
     "metadata": {},
     "output_type": "execute_result"
    }
   ],
   "source": [
    "data.sort()\n",
    "data"
   ]
  },
  {
   "cell_type": "code",
   "execution_count": 37,
   "id": "52a55068",
   "metadata": {},
   "outputs": [
    {
     "name": "stdout",
     "output_type": "stream",
     "text": [
      "(2, 3, 4)\n"
     ]
    }
   ],
   "source": [
    "print(data.shape)"
   ]
  },
  {
   "cell_type": "code",
   "execution_count": 39,
   "id": "262dfac0",
   "metadata": {},
   "outputs": [
    {
     "data": {
      "text/plain": [
       "(2, 2, 6)"
      ]
     },
     "execution_count": 39,
     "metadata": {},
     "output_type": "execute_result"
    }
   ],
   "source": [
    "data = data.reshape((2,2,-1))\n",
    "data.shape"
   ]
  },
  {
   "cell_type": "code",
   "execution_count": 40,
   "id": "f0a14195",
   "metadata": {},
   "outputs": [
    {
     "name": "stdout",
     "output_type": "stream",
     "text": [
      "[0. 0. 0. 0. 0. 0. 0. 0.]\n",
      "[0. 0. 0. 0. 0. 0. 0. 0. 3. 4.]\n"
     ]
    }
   ],
   "source": [
    "zeroes = np.zeros((8))\n",
    "print(zeroes)\n",
    "zeroes = np.append(zeroes, [3,4])\n",
    "print(zeroes)"
   ]
  },
  {
   "cell_type": "code",
   "execution_count": 41,
   "id": "80039859",
   "metadata": {},
   "outputs": [
    {
     "name": "stdout",
     "output_type": "stream",
     "text": [
      "[0. 0. 2. 3. 4. 0. 0. 0. 0. 0. 0. 3. 4.]\n"
     ]
    }
   ],
   "source": [
    "zeroes = np.insert(zeroes, 2,[2,3,4])\n",
    "print(zeroes)"
   ]
  },
  {
   "cell_type": "markdown",
   "id": "610e7c12",
   "metadata": {},
   "source": [
    "# 4. Delete"
   ]
  },
  {
   "cell_type": "code",
   "execution_count": 42,
   "id": "dd1e2aed",
   "metadata": {},
   "outputs": [
    {
     "data": {
      "text/plain": [
       "array([[[3.02142621e-01, 3.16383196e-01, 9.24826296e-01, 7.00000000e+02,\n",
       "         1.50423761e-01, 5.57497403e-01],\n",
       "        [6.15776267e-01, 8.49380173e-01, 4.19888195e-02, 6.10433259e-02,\n",
       "         8.46934156e-01, 9.06798053e-01]],\n",
       "\n",
       "       [[1.43983770e-01, 2.11393245e-01, 3.27011774e-01, 7.78746171e-01,\n",
       "         2.68167025e-01, 5.80916251e-01],\n",
       "        [5.93858360e-01, 7.96448724e-01, 2.84649066e-02, 6.29208758e-02,\n",
       "         3.27262548e-01, 3.51811631e-01]]])"
      ]
     },
     "execution_count": 42,
     "metadata": {},
     "output_type": "execute_result"
    }
   ],
   "source": [
    "data"
   ]
  },
  {
   "cell_type": "code",
   "execution_count": 43,
   "id": "ea7e9ac0",
   "metadata": {},
   "outputs": [
    {
     "data": {
      "text/plain": [
       "array([[[0.61577627, 0.84938017, 0.04198882, 0.06104333, 0.84693416,\n",
       "         0.90679805]],\n",
       "\n",
       "       [[0.59385836, 0.79644872, 0.02846491, 0.06292088, 0.32726255,\n",
       "         0.35181163]]])"
      ]
     },
     "execution_count": 43,
     "metadata": {},
     "output_type": "execute_result"
    }
   ],
   "source": [
    "np.delete(data, 0, axis=1)"
   ]
  },
  {
   "cell_type": "code",
   "execution_count": 45,
   "id": "4e1e4da6",
   "metadata": {},
   "outputs": [
    {
     "data": {
      "text/plain": [
       "array([[[3.02142621e-01, 3.16383196e-01, 9.24826296e-01, 7.00000000e+02,\n",
       "         1.50423761e-01, 5.57497403e-01],\n",
       "        [6.15776267e-01, 8.49380173e-01, 4.19888195e-02, 6.10433259e-02,\n",
       "         8.46934156e-01, 9.06798053e-01]],\n",
       "\n",
       "       [[1.43983770e-01, 2.11393245e-01, 3.27011774e-01, 7.78746171e-01,\n",
       "         2.68167025e-01, 5.80916251e-01],\n",
       "        [5.93858360e-01, 7.96448724e-01, 2.84649066e-02, 6.29208758e-02,\n",
       "         3.27262548e-01, 3.51811631e-01]]])"
      ]
     },
     "execution_count": 45,
     "metadata": {},
     "output_type": "execute_result"
    }
   ],
   "source": [
    "data"
   ]
  },
  {
   "cell_type": "code",
   "execution_count": 46,
   "id": "388449e7",
   "metadata": {},
   "outputs": [],
   "source": [
    "np.save(\"new_array\", data)"
   ]
  },
  {
   "cell_type": "code",
   "execution_count": null,
   "id": "7e9ead39",
   "metadata": {},
   "outputs": [],
   "source": []
  }
 ],
 "metadata": {
  "kernelspec": {
   "display_name": "Python 3 (ipykernel)",
   "language": "python",
   "name": "python3"
  },
  "language_info": {
   "codemirror_mode": {
    "name": "ipython",
    "version": 3
   },
   "file_extension": ".py",
   "mimetype": "text/x-python",
   "name": "python",
   "nbconvert_exporter": "python",
   "pygments_lexer": "ipython3",
   "version": "3.11.5"
  }
 },
 "nbformat": 4,
 "nbformat_minor": 5
}
